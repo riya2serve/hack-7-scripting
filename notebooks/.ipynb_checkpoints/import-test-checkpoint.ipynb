{
 "cells": [
  {
   "cell_type": "code",
   "execution_count": 12,
   "id": "ed85edbb-dafd-4e59-822e-234c9d973577",
   "metadata": {},
   "outputs": [],
   "source": [
    "#import sys from the standard library\n",
    "import sys"
   ]
  },
  {
   "cell_type": "code",
   "execution_count": 14,
   "id": "ed727629-600b-436c-be45-39a6f98c3e4d",
   "metadata": {},
   "outputs": [],
   "source": [
    "# append your current parent dir to the sys.path list\n",
    "sys.path.append(\"../\")"
   ]
  },
  {
   "cell_type": "code",
   "execution_count": 16,
   "id": "f429d533-c271-43cb-92f2-95b632fdf26e",
   "metadata": {},
   "outputs": [
    {
     "data": {
      "text/plain": [
       "'Yes – definitely.'"
      ]
     },
     "execution_count": 16,
     "metadata": {},
     "output_type": "execute_result"
    }
   ],
   "source": [
    "import mypackage.mymodule\n",
    "mypackage.mymodule.magic_eight_ball()"
   ]
  },
  {
   "cell_type": "markdown",
   "id": "f2de42e4-39a8-40ef-b073-cdfaae7dc65b",
   "metadata": {},
   "source": [
    "Now if we restart the notebook and update our sys.path variable as before, we should be able to access all contents of the mypackage folder from the top level name. In addition, we can view a docstring for the package which we defined in the init file:"
   ]
  },
  {
   "cell_type": "code",
   "execution_count": 2,
   "id": "62502dd4-5e0f-4357-8661-c5dcccba4fdb",
   "metadata": {},
   "outputs": [
    {
     "data": {
      "text/plain": [
       "\u001b[0;31mType:\u001b[0m        module\n",
       "\u001b[0;31mString form:\u001b[0m <module 'mypackage' from '/Users/riyarampalli/hacks/hack-7-scripting/notebooks/../mypackage/__init__.py'>\n",
       "\u001b[0;31mFile:\u001b[0m        ~/hacks/hack-7-scripting/mypackage/__init__.py\n",
       "\u001b[0;31mDocstring:\u001b[0m   The mypackage package is used to learn about package filestructure."
      ]
     },
     "metadata": {},
     "output_type": "display_data"
    }
   ],
   "source": [
    "# add our local package scope to sys.path\n",
    "import sys\n",
    "sys.path.append(\"..\")\n",
    "\n",
    "# access our module function from the package-level import\n",
    "import mypackage\n",
    "mypackage.mymodule.magic_eight_ball()\n",
    "\n",
    "# show the package-level docstring\n",
    "mypackage?"
   ]
  },
  {
   "cell_type": "code",
   "execution_count": null,
   "id": "f8c7dfaa-7171-4b75-a2e1-ffa476a73c51",
   "metadata": {},
   "outputs": [],
   "source": []
  }
 ],
 "metadata": {
  "kernelspec": {
   "display_name": "Python 3 (ipykernel)",
   "language": "python",
   "name": "python3"
  },
  "language_info": {
   "codemirror_mode": {
    "name": "ipython",
    "version": 3
   },
   "file_extension": ".py",
   "mimetype": "text/x-python",
   "name": "python",
   "nbconvert_exporter": "python",
   "pygments_lexer": "ipython3",
   "version": "3.10.12"
  }
 },
 "nbformat": 4,
 "nbformat_minor": 5
}
